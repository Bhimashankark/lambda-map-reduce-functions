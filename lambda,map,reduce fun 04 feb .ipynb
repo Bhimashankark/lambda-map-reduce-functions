{
 "cells": [
  {
   "cell_type": "markdown",
   "id": "18565dcc-0263-481a-988a-7981a1065b42",
   "metadata": {},
   "source": [
    "Q1. Create a python program to sort the given list of tuples based on integer value using a\n",
    "lambda function.\n",
    "[('Sachin Tendulkar', 34357), ('Ricky Ponting', 27483), ('Jack Kallis', 25534), ('Virat Kohli', 24936)]"
   ]
  },
  {
   "cell_type": "code",
   "execution_count": 1,
   "id": "580a3ee0-6640-42b7-ad68-9f8e5979c0d8",
   "metadata": {},
   "outputs": [],
   "source": [
    "l = [('Sachin Tendulkar', 34357), ('Ricky Ponting', 27483), ('Jack Kallis', 25534), ('Virat Kohli', 24936)]"
   ]
  },
  {
   "cell_type": "code",
   "execution_count": 8,
   "id": "0410bbf6-05df-4b82-9cba-227b034ecfdd",
   "metadata": {},
   "outputs": [
    {
     "name": "stdout",
     "output_type": "stream",
     "text": [
      "sorted list of tuples [('Virat Kohli', 24936), ('Jack Kallis', 25534), ('Ricky Ponting', 27483), ('Sachin Tendulkar', 34357)]\n"
     ]
    }
   ],
   "source": [
    "sorted_list=sorted(l, key=lambda x : x[1])\n",
    "print(\"sorted list of tuples\",sorted_list)"
   ]
  },
  {
   "cell_type": "code",
   "execution_count": null,
   "id": "1d75f7b1-26eb-4f94-89ff-52e54793f25e",
   "metadata": {},
   "outputs": [],
   "source": []
  },
  {
   "cell_type": "markdown",
   "id": "e32c7695-8adc-4e25-8f76-eb211ca8bd16",
   "metadata": {},
   "source": [
    "Q2. Write a Python Program to find the squares of all the numbers in the given list of integers using\n",
    "lambda and map functions.\n",
    "[1, 2, 3, 4, 5, 6, 7, 8, 9, 10]"
   ]
  },
  {
   "cell_type": "code",
   "execution_count": 9,
   "id": "1bd40818-5878-433f-8df8-0dfa4c06268f",
   "metadata": {},
   "outputs": [],
   "source": [
    "l1 = [1, 2, 3, 4, 5, 6, 7, 8, 9, 10]\n"
   ]
  },
  {
   "cell_type": "code",
   "execution_count": 10,
   "id": "f650b393-ece8-4bd8-a5e8-de1f99a4f7fb",
   "metadata": {},
   "outputs": [
    {
     "data": {
      "text/plain": [
       "[1, 4, 9, 16, 25, 36, 49, 64, 81, 100]"
      ]
     },
     "execution_count": 10,
     "metadata": {},
     "output_type": "execute_result"
    }
   ],
   "source": [
    "list(map(lambda x : x**2, l1))"
   ]
  },
  {
   "cell_type": "code",
   "execution_count": null,
   "id": "1082ac23-cc08-4c70-b328-d0d964e954e2",
   "metadata": {},
   "outputs": [],
   "source": []
  },
  {
   "cell_type": "markdown",
   "id": "f923f0f2-553b-4ddf-b193-ea0dac198d40",
   "metadata": {},
   "source": [
    "Q3. Write a python program to convert the given list of integers into a tuple of strings. Use map and\n",
    "lambda functions\n",
    "Given String: [1, 2, 3, 4, 5, 6, 7, 8, 9, 10]"
   ]
  },
  {
   "cell_type": "code",
   "execution_count": 13,
   "id": "0cc6c590-0b9e-4a34-ba52-205fe847d7a9",
   "metadata": {},
   "outputs": [],
   "source": [
    "l2 = [1, 2, 3, 4, 5, 6, 7, 8, 9, 10]"
   ]
  },
  {
   "cell_type": "code",
   "execution_count": 14,
   "id": "f9ef254b-5165-45fa-b333-eb949f36359d",
   "metadata": {},
   "outputs": [
    {
     "data": {
      "text/plain": [
       "['1', '2', '3', '4', '5', '6', '7', '8', '9', '10']"
      ]
     },
     "execution_count": 14,
     "metadata": {},
     "output_type": "execute_result"
    }
   ],
   "source": [
    "list(map(lambda x : str(x) , l2 ))"
   ]
  },
  {
   "cell_type": "code",
   "execution_count": null,
   "id": "8fb80748-5c92-43cf-851f-47841d9affdc",
   "metadata": {},
   "outputs": [],
   "source": []
  },
  {
   "cell_type": "markdown",
   "id": "85ad73b9-5a56-4b01-9000-8c8088cc82c5",
   "metadata": {},
   "source": [
    "Q4. Write a python program using reduce function to compute the product of a list containing numbers\n",
    "from 1 to 25."
   ]
  },
  {
   "cell_type": "code",
   "execution_count": 32,
   "id": "9b21dfbd-ff39-4cbc-bb1a-6ed561722e9c",
   "metadata": {},
   "outputs": [
    {
     "name": "stdout",
     "output_type": "stream",
     "text": [
      "[1, 2, 3, 4, 5, 6, 7, 8, 9, 10, 11, 12, 13, 14, 15, 16, 17, 18, 19, 20, 21, 22, 23, 24, 25]\n"
     ]
    }
   ],
   "source": [
    "l4 = list(map(lambda x : x, range(1,26)))\n",
    "print(l4)"
   ]
  },
  {
   "cell_type": "code",
   "execution_count": 35,
   "id": "6c8dcab6-6c2c-46d3-acfe-acecebea027a",
   "metadata": {},
   "outputs": [],
   "source": [
    "from functools import reduce "
   ]
  },
  {
   "cell_type": "code",
   "execution_count": 48,
   "id": "572c2244-c42f-422d-8e21-9214cc692723",
   "metadata": {},
   "outputs": [
    {
     "name": "stdout",
     "output_type": "stream",
     "text": [
      "product of list containing numbers 1 to 25 15511210043330985984000000\n"
     ]
    }
   ],
   "source": [
    "product = reduce(lambda x,y : x*y, l4 )\n",
    "print(\"product of list containing numbers 1 to 25\",product)"
   ]
  },
  {
   "cell_type": "code",
   "execution_count": null,
   "id": "73ee3c2a-9e21-4fc7-91fc-82a8ae1b038a",
   "metadata": {},
   "outputs": [],
   "source": []
  },
  {
   "cell_type": "markdown",
   "id": "c5ca96b7-1dc7-4ca8-bdf4-9e4aa361afa9",
   "metadata": {},
   "source": [
    "Q5. Write a python program to filter the numbers in a given list that are divisible by 2 and 3 using the\n",
    "filter function.\n",
    "[2, 3, 6, 9, 27, 60, 90, 120, 55, 46]"
   ]
  },
  {
   "cell_type": "code",
   "execution_count": 51,
   "id": "fb5ba379-3fa5-447f-8217-0426f272c8e0",
   "metadata": {},
   "outputs": [],
   "source": [
    "l5=[2, 3, 6, 9, 27, 60, 90, 120, 55, 46]"
   ]
  },
  {
   "cell_type": "code",
   "execution_count": 57,
   "id": "033b58cb-29b8-491e-a9fd-80232d71b064",
   "metadata": {},
   "outputs": [
    {
     "name": "stdout",
     "output_type": "stream",
     "text": [
      "the numbers which are divisible by 2 and 3 from the given list [6, 60, 90, 120]\n"
     ]
    }
   ],
   "source": [
    "div = list(filter(lambda x : x%2==0 and x%3==0, l5))\n",
    "print(\"the numbers which are divisible by 2 and 3 from the given list\",div)"
   ]
  },
  {
   "cell_type": "code",
   "execution_count": null,
   "id": "f24dbdba-f35b-4169-b9a8-931af4aa9d9f",
   "metadata": {},
   "outputs": [],
   "source": []
  },
  {
   "cell_type": "markdown",
   "id": "21911d64-8e89-4eff-8763-cb2cad704231",
   "metadata": {},
   "source": [
    "Q6. Write a python program to find palindromes in the given list of strings using lambda and filter\n",
    "function.\n",
    "['python', 'php', 'aba', 'radar', 'level']"
   ]
  },
  {
   "cell_type": "code",
   "execution_count": 60,
   "id": "4245dcf9-f54b-4d1b-b158-7ca443db0c6c",
   "metadata": {},
   "outputs": [],
   "source": [
    "l6 = ['python', 'php', 'aba', 'radar', 'level']"
   ]
  },
  {
   "cell_type": "code",
   "execution_count": 62,
   "id": "f8d2c014-539d-4249-8cdf-88d5fbba008f",
   "metadata": {},
   "outputs": [
    {
     "name": "stdout",
     "output_type": "stream",
     "text": [
      "palindrome in the given list ['php', 'aba', 'radar', 'level']\n"
     ]
    }
   ],
   "source": [
    "palindrome = list(filter(lambda x : x==x[::-1],l6))\n",
    "print(\"palindrome in the given list\",palindrome)"
   ]
  },
  {
   "cell_type": "code",
   "execution_count": null,
   "id": "df043fbb-0d92-43b8-8d5c-2ae2537993a8",
   "metadata": {},
   "outputs": [],
   "source": []
  }
 ],
 "metadata": {
  "kernelspec": {
   "display_name": "Python 3 (ipykernel)",
   "language": "python",
   "name": "python3"
  },
  "language_info": {
   "codemirror_mode": {
    "name": "ipython",
    "version": 3
   },
   "file_extension": ".py",
   "mimetype": "text/x-python",
   "name": "python",
   "nbconvert_exporter": "python",
   "pygments_lexer": "ipython3",
   "version": "3.10.8"
  }
 },
 "nbformat": 4,
 "nbformat_minor": 5
}
